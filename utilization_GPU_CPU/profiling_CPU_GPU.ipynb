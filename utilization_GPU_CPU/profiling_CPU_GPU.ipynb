{
 "cells": [
  {
   "cell_type": "code",
   "execution_count": 1,
   "id": "2653129f-8cf2-43c9-8209-90b228d46908",
   "metadata": {},
   "outputs": [],
   "source": [
    "import torch\n",
    "import numpy as np\n",
    "import torch.nn as nn\n",
    "import torch.autograd.profiler as profiler\n",
    "\n",
    "\n",
    "class ProfileTargetModule(nn.Module):\n",
    "    def __init__(self, in_features: int, out_features: int, bias: bool = True, bn: bool = True):\n",
    "        super(ProfileTargetModule, self).__init__()\n",
    "        self.conv = nn.Conv2d(in_features, out_features, kernel_size=3, padding=1, bias=bias)\n",
    "        self.bn = nn.BatchNorm2d(out_features)\n",
    "        \n",
    "    def forward(self, input):\n",
    "        with profiler.record_function(\"CONV FORWARD\"):\n",
    "            out = self.conv(input)\n",
    "            out = self.bn(out)\n",
    "\n",
    "        with profiler.record_function(\"SVD\"):\n",
    "            u, s, vh = np.linalg.svd(out.cpu().detach().numpy())\n",
    "            s = torch.from_numpy(s).cuda()\n",
    "            \n",
    "        return out, s"
   ]
  },
  {
   "cell_type": "code",
   "execution_count": 2,
   "id": "962c59e9-a07b-4538-80de-3bace0480632",
   "metadata": {},
   "outputs": [
    {
     "name": "stdout",
     "output_type": "stream",
     "text": [
      "------------------------------------  ------------  ------------  ------------  ------------  ------------  ------------  ------------  ------------  ------------  ------------  \n",
      "                                Name    Self CPU %      Self CPU   CPU total %     CPU total  CPU time avg       CPU Mem  Self CPU Mem      CUDA Mem  Self CUDA Mem    # of Calls  \n",
      "------------------------------------  ------------  ------------  ------------  ------------  ------------  ------------  ------------  ------------  ------------  ------------  \n",
      "                                 SVD        88.04%      29.726ms        89.81%      30.324ms      30.324ms          -4 b    -512.00 Kb       4.00 Kb           0 b             1  \n",
      "                        CONV FORWARD         0.52%     174.000us         8.70%       2.937ms       2.937ms          -4 b          -4 b       1.00 Mb           0 b             1  \n",
      "                        aten::conv2d         0.01%       4.000us         4.55%       1.537ms       1.537ms           0 b           0 b     512.00 Kb           0 b             1  \n",
      "                   aten::convolution         0.07%      22.000us         4.54%       1.533ms       1.533ms           0 b           0 b     512.00 Kb           0 b             1  \n",
      "                  aten::_convolution         1.34%     454.000us         4.48%       1.511ms       1.511ms           0 b           0 b     512.00 Kb           0 b             1  \n",
      "                    aten::batch_norm         0.01%       3.000us         3.57%       1.205ms       1.205ms           0 b           0 b     513.00 Kb           0 b             1  \n",
      "        aten::_batch_norm_impl_index         1.26%     425.000us         3.56%       1.202ms       1.202ms           0 b           0 b     513.00 Kb           0 b             1  \n",
      "             aten::cudnn_convolution         2.87%     970.000us         2.97%       1.002ms       1.002ms           0 b           0 b     512.00 Kb     512.00 Kb             1  \n",
      "              aten::cudnn_batch_norm         0.92%     310.000us         2.30%     777.000us     777.000us           0 b           0 b     513.00 Kb           0 b             1  \n",
      "                            aten::to         0.06%      21.000us         1.73%     585.000us     195.000us     512.00 Kb           0 b       4.00 Kb           0 b             3  \n",
      "------------------------------------  ------------  ------------  ------------  ------------  ------------  ------------  ------------  ------------  ------------  ------------  \n",
      "Self CPU time total: 33.765ms\n",
      "\n"
     ]
    },
    {
     "name": "stderr",
     "output_type": "stream",
     "text": [
      "STAGE:2022-11-07 15:19:22 1269393:1269393 ActivityProfilerController.cpp:294] Completed Stage: Warm Up\n",
      "STAGE:2022-11-07 15:19:22 1269393:1269393 ActivityProfilerController.cpp:300] Completed Stage: Collection\n"
     ]
    }
   ],
   "source": [
    "x = torch.rand(1, 3, 128, 128).cuda()\n",
    "model = ProfileTargetModule(3, 8, True, True).cuda()\n",
    "out, s = model(x) # Warm-up\n",
    "\n",
    "with profiler.profile(with_stack=True, profile_memory=True) as prof:\n",
    "    out, s = model(x)\n",
    "    \n",
    "print(prof.key_averages().table(sort_by=\"cpu_time_total\", row_limit=10))"
   ]
  },
  {
   "cell_type": "code",
   "execution_count": 3,
   "id": "e3e5fb8b-1786-4596-8fd9-ab1b2a088430",
   "metadata": {},
   "outputs": [
    {
     "name": "stdout",
     "output_type": "stream",
     "text": [
      "------------------------------------  ------------  ------------  ------------  ------------  ------------  ------------  ------------  ------------  ------------  ------------  ---------------------------------------------------------------------------  \n",
      "                                Name    Self CPU %      Self CPU   CPU total %     CPU total  CPU time avg       CPU Mem  Self CPU Mem      CUDA Mem  Self CUDA Mem    # of Calls  Source Location                                                              \n",
      "------------------------------------  ------------  ------------  ------------  ------------  ------------  ------------  ------------  ------------  ------------  ------------  ---------------------------------------------------------------------------  \n",
      "                                 SVD        88.04%      29.726ms        89.81%      30.324ms      30.324ms          -4 b    -512.00 Kb       4.00 Kb           0 b             1  ...-in method _record_function_enter of PyCapsule object at 0x7f3e90643150>  \n",
      "                                                                                                                                                                                  torch/_ops.py(437): __call__                                                 \n",
      "                                                                                                                                                                                  torch/autograd/profiler.py(487): __enter__                                   \n",
      "                                                                                                                                                                                  /tmp/ipykernel_1269393/2198553952.py(13): forward                            \n",
      "                                                                                                                                                                                  nn.Module: ProfileTargetModule_0                                             \n",
      "                                                                                                                                                                                                                                                               \n",
      "                        CONV FORWARD         0.52%     174.000us         8.70%       2.937ms       2.937ms          -4 b          -4 b       1.00 Mb           0 b             1  ...-in method _record_function_enter of PyCapsule object at 0x7f3e90643150>  \n",
      "                                                                                                                                                                                  torch/_ops.py(437): __call__                                                 \n",
      "                                                                                                                                                                                  torch/autograd/profiler.py(487): __enter__                                   \n",
      "                                                                                                                                                                                  /tmp/ipykernel_1269393/2198553952.py(13): forward                            \n",
      "                                                                                                                                                                                  nn.Module: ProfileTargetModule_0                                             \n",
      "                                                                                                                                                                                                                                                               \n",
      "                        aten::conv2d         0.01%       4.000us         4.55%       1.537ms       1.537ms           0 b           0 b     512.00 Kb           0 b             1  <built-in method conv2d of type object at 0x7f3eef2f9140>                    \n",
      "                                                                                                                                                                                  torch/nn/modules/conv.py(454): _conv_forward                                 \n",
      "                                                                                                                                                                                  torch/nn/modules/conv.py(462): forward                                       \n",
      "                                                                                                                                                                                  nn.Module: Conv2d_0                                                          \n",
      "                                                                                                                                                                                  /tmp/ipykernel_1269393/2198553952.py(13): forward                            \n",
      "                                                                                                                                                                                                                                                               \n",
      "------------------------------------  ------------  ------------  ------------  ------------  ------------  ------------  ------------  ------------  ------------  ------------  ---------------------------------------------------------------------------  \n",
      "Self CPU time total: 33.765ms\n",
      "\n"
     ]
    }
   ],
   "source": [
    "print(prof.key_averages(group_by_stack_n=5).table(sort_by=\"cpu_time_total\", row_limit=3))"
   ]
  },
  {
   "cell_type": "code",
   "execution_count": 4,
   "id": "ae42dfdc-293b-4f89-84c9-b8154957ff79",
   "metadata": {},
   "outputs": [
    {
     "name": "stdout",
     "output_type": "stream",
     "text": [
      "------------------------------------  ------------  ------------  ------------  ------------  ------------  ------------  ------------  ------------  ------------  ------------  ------------  ------------  ------------  ------------  \n",
      "                                Name    Self CPU %      Self CPU   CPU total %     CPU total  CPU time avg     Self CUDA   Self CUDA %    CUDA total  CUDA time avg       CPU Mem  Self CPU Mem      CUDA Mem  Self CUDA Mem    # of Calls  \n",
      "------------------------------------  ------------  ------------  ------------  ------------  ------------  ------------  ------------  ------------  ------------  ------------  ------------  ------------  ------------  ------------  \n",
      "                                 SVD        96.31%      29.281ms        97.57%      29.665ms      29.665ms      29.412ms        96.17%      29.838ms      29.838ms          -4 b    -512.26 Kb       4.00 Kb           0 b             1  \n",
      "                        CONV FORWARD         0.65%     197.000us         2.21%     672.000us     672.000us     182.000us         0.60%     677.000us     677.000us          -4 b          -4 b       1.00 Mb           0 b             1  \n",
      "                            aten::to         0.11%      33.000us         1.16%     352.000us     117.333us      33.000us         0.11%     366.000us     122.000us     512.00 Kb           0 b       4.00 Kb           0 b             3  \n",
      "                      aten::_to_copy         0.18%      54.000us         1.05%     319.000us     159.500us      49.000us         0.16%     333.000us     166.500us     512.00 Kb           0 b       4.00 Kb           0 b             2  \n",
      "                        aten::conv2d         0.04%      12.000us         0.92%     281.000us     281.000us      13.000us         0.04%     286.000us     286.000us           0 b           0 b     512.00 Kb           0 b             1  \n",
      "                   aten::convolution         0.09%      27.000us         0.88%     269.000us     269.000us      26.000us         0.09%     273.000us     273.000us           0 b           0 b     512.00 Kb           0 b             1  \n",
      "                         aten::copy_         0.09%      27.000us         0.82%     248.000us     124.000us     258.000us         0.84%     258.000us     129.000us           0 b           0 b           0 b           0 b             2  \n",
      "                  aten::_convolution         0.14%      44.000us         0.80%     242.000us     242.000us      35.000us         0.11%     247.000us     247.000us           0 b           0 b     512.00 Kb           0 b             1  \n",
      "                    aten::batch_norm         0.04%      12.000us         0.57%     174.000us     174.000us      12.000us         0.04%     179.000us     179.000us           0 b           0 b     513.00 Kb           0 b             1  \n",
      "        aten::_batch_norm_impl_index         0.05%      16.000us         0.53%     162.000us     162.000us      16.000us         0.05%     167.000us     167.000us           0 b           0 b     513.00 Kb           0 b             1  \n",
      "------------------------------------  ------------  ------------  ------------  ------------  ------------  ------------  ------------  ------------  ------------  ------------  ------------  ------------  ------------  ------------  \n",
      "Self CPU time total: 30.404ms\n",
      "Self CUDA time total: 30.583ms\n",
      "\n"
     ]
    },
    {
     "name": "stderr",
     "output_type": "stream",
     "text": [
      "STAGE:2022-11-07 15:20:42 1269393:1269393 ActivityProfilerController.cpp:294] Completed Stage: Warm Up\n",
      "STAGE:2022-11-07 15:20:42 1269393:1269393 ActivityProfilerController.cpp:300] Completed Stage: Collection\n"
     ]
    }
   ],
   "source": [
    "x = torch.rand(1, 3, 128, 128).cuda()\n",
    "model = ProfileTargetModule(3, 8, True, True).cuda()\n",
    "out, s = model(x)\n",
    "\n",
    "with profiler.profile(with_stack=True, use_cuda=True, profile_memory=True) as prof:\n",
    "    out, s = model(x)\n",
    "    \n",
    "print(prof.key_averages().table(sort_by=\"cuda_time_total\", row_limit=10))"
   ]
  },
  {
   "cell_type": "code",
   "execution_count": 5,
   "id": "7ab1efef-8a58-4f1d-9c2d-f9a8efcc1a05",
   "metadata": {},
   "outputs": [],
   "source": [
    "class ProfileTargetModule(nn.Module):\n",
    "    def __init__(self, in_features: int, out_features: int, bias: bool = True, bn: bool = True):\n",
    "        super(ProfileTargetModule, self).__init__()\n",
    "        self.conv = nn.Conv2d(in_features, out_features, kernel_size=3, padding=1, bias=bias)\n",
    "        self.bn = nn.BatchNorm2d(out_features)\n",
    "        \n",
    "    def forward(self, input):\n",
    "        with profiler.record_function(\"CONV FORWARD\"):\n",
    "            out = self.conv(input)\n",
    "            out = self.bn(out)\n",
    "\n",
    "        with profiler.record_function(\"SVD\"):\n",
    "            u, s, vh = torch.svd(out)\n",
    "            \n",
    "        return out, s"
   ]
  },
  {
   "cell_type": "code",
   "execution_count": 6,
   "id": "30f45890-a74b-4777-8313-7ad782d608b1",
   "metadata": {},
   "outputs": [
    {
     "name": "stderr",
     "output_type": "stream",
     "text": [
      "STAGE:2022-11-07 15:22:29 1269393:1269393 ActivityProfilerController.cpp:294] Completed Stage: Warm Up\n",
      "STAGE:2022-11-07 15:22:29 1269393:1269393 ActivityProfilerController.cpp:300] Completed Stage: Collection\n"
     ]
    },
    {
     "name": "stdout",
     "output_type": "stream",
     "text": [
      "------------------------------------  ------------  ------------  ------------  ------------  ------------  ------------  ------------  ------------  ------------  ------------  ------------  ------------  ------------  ------------  \n",
      "                                Name    Self CPU %      Self CPU   CPU total %     CPU total  CPU time avg     Self CUDA   Self CUDA %    CUDA total  CUDA time avg       CPU Mem  Self CPU Mem      CUDA Mem  Self CUDA Mem    # of Calls  \n",
      "------------------------------------  ------------  ------------  ------------  ------------  ------------  ------------  ------------  ------------  ------------  ------------  ------------  ------------  ------------  ------------  \n",
      "                                 SVD         1.38%     378.000us        97.44%      26.617ms      26.617ms     359.000us         1.31%      26.622ms      26.622ms          -4 b        -268 b       1.00 Mb           0 b             1  \n",
      "                           aten::svd         0.16%      45.000us        96.05%      26.238ms      26.238ms      64.000us         0.23%      26.259ms      26.259ms           0 b           0 b       1.00 Mb           0 b             1  \n",
      "                    aten::linalg_svd         0.64%     175.000us        95.69%      26.139ms      26.139ms     171.000us         0.63%      26.155ms      26.155ms           0 b           0 b       1.00 Mb           0 b             1  \n",
      "                   aten::_linalg_svd        10.39%       2.838ms        95.05%      25.964ms      25.964ms      25.340ms        92.74%      25.984ms      25.984ms           0 b         -32 b       1.00 Mb     515.50 Kb             1  \n",
      "                        CONV FORWARD         0.68%     187.000us         2.30%     628.000us     628.000us     177.000us         0.65%     633.000us     633.000us          -4 b        -268 b       1.00 Mb           0 b             1  \n",
      "          aten::_linalg_check_errors         0.60%     163.000us         1.18%     321.000us     321.000us     163.000us         0.60%     336.000us     336.000us           0 b           0 b           0 b        -512 b             1  \n",
      "                        aten::conv2d         0.04%      11.000us         0.98%     267.000us     267.000us      11.000us         0.04%     271.000us     271.000us           0 b           0 b     512.00 Kb           0 b             1  \n",
      "                   aten::convolution         0.09%      24.000us         0.94%     256.000us     256.000us      24.000us         0.09%     260.000us     260.000us           0 b           0 b     512.00 Kb           0 b             1  \n",
      "                  aten::_convolution         0.15%      40.000us         0.85%     232.000us     232.000us      30.000us         0.11%     236.000us     236.000us           0 b           0 b     512.00 Kb           0 b             1  \n",
      "                    aten::batch_norm         0.04%      11.000us         0.57%     155.000us     155.000us      10.000us         0.04%     158.000us     158.000us           0 b           0 b     513.00 Kb           0 b             1  \n",
      "------------------------------------  ------------  ------------  ------------  ------------  ------------  ------------  ------------  ------------  ------------  ------------  ------------  ------------  ------------  ------------  \n",
      "Self CPU time total: 27.317ms\n",
      "Self CUDA time total: 27.325ms\n",
      "\n"
     ]
    }
   ],
   "source": [
    "x = torch.rand(1, 3, 128, 128).cuda()\n",
    "model = ProfileTargetModule(3, 8, True, True).cuda()\n",
    "out, s = model(x)\n",
    "\n",
    "with profiler.profile(with_stack=True, use_cuda=True, profile_memory=True) as prof:\n",
    "    out, s = model(x)\n",
    "    \n",
    "print(prof.key_averages().table(sort_by=\"cuda_time_total\", row_limit=10))"
   ]
  },
  {
   "cell_type": "code",
   "execution_count": null,
   "id": "a1ac93c9-7bd8-4519-a800-2d55578f45b8",
   "metadata": {},
   "outputs": [],
   "source": []
  }
 ],
 "metadata": {
  "kernelspec": {
   "display_name": "torch-gpu",
   "language": "python",
   "name": "torch"
  },
  "language_info": {
   "codemirror_mode": {
    "name": "ipython",
    "version": 3
   },
   "file_extension": ".py",
   "mimetype": "text/x-python",
   "name": "python",
   "nbconvert_exporter": "python",
   "pygments_lexer": "ipython3",
   "version": "3.10.6"
  }
 },
 "nbformat": 4,
 "nbformat_minor": 5
}
